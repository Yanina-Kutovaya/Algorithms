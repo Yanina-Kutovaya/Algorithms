{
 "cells": [
  {
   "cell_type": "code",
   "execution_count": 1,
   "metadata": {},
   "outputs": [],
   "source": [
    "import numpy as np\n",
    "import pandas as pd\n",
    "import random\n",
    "from sklearn.model_selection import train_test_split\n",
    "import matplotlib.pyplot as plt\n",
    "import seaborn as sns"
   ]
  },
  {
   "cell_type": "code",
   "execution_count": 2,
   "metadata": {},
   "outputs": [],
   "source": [
    "import warnings\n",
    "warnings.filterwarnings('ignore')"
   ]
  },
  {
   "cell_type": "markdown",
   "metadata": {},
   "source": [
    "### Data download"
   ]
  },
  {
   "cell_type": "code",
   "execution_count": 3,
   "metadata": {},
   "outputs": [],
   "source": [
    "path = 'C:/Users/ASER/Desktop/GeekBrains\\ML_project/tutor_selection/'"
   ]
  },
  {
   "cell_type": "code",
   "execution_count": 4,
   "metadata": {},
   "outputs": [
    {
     "data": {
      "text/html": [
       "<div>\n",
       "<style scoped>\n",
       "    .dataframe tbody tr th:only-of-type {\n",
       "        vertical-align: middle;\n",
       "    }\n",
       "\n",
       "    .dataframe tbody tr th {\n",
       "        vertical-align: top;\n",
       "    }\n",
       "\n",
       "    .dataframe thead th {\n",
       "        text-align: right;\n",
       "    }\n",
       "</style>\n",
       "<table border=\"1\" class=\"dataframe\">\n",
       "  <thead>\n",
       "    <tr style=\"text-align: right;\">\n",
       "      <th></th>\n",
       "      <th>Id</th>\n",
       "      <th>age</th>\n",
       "      <th>years_of_experience</th>\n",
       "      <th>lesson_price</th>\n",
       "      <th>qualification</th>\n",
       "      <th>physics</th>\n",
       "      <th>chemistry</th>\n",
       "      <th>biology</th>\n",
       "      <th>english</th>\n",
       "      <th>geography</th>\n",
       "      <th>history</th>\n",
       "      <th>mean_exam_points</th>\n",
       "      <th>choose</th>\n",
       "    </tr>\n",
       "  </thead>\n",
       "  <tbody>\n",
       "    <tr>\n",
       "      <th>0</th>\n",
       "      <td>0</td>\n",
       "      <td>35.0</td>\n",
       "      <td>0.0</td>\n",
       "      <td>2150.0</td>\n",
       "      <td>2.0</td>\n",
       "      <td>0.0</td>\n",
       "      <td>0.0</td>\n",
       "      <td>0.0</td>\n",
       "      <td>0.0</td>\n",
       "      <td>0.0</td>\n",
       "      <td>0.0</td>\n",
       "      <td>74.0</td>\n",
       "      <td>0</td>\n",
       "    </tr>\n",
       "    <tr>\n",
       "      <th>1</th>\n",
       "      <td>1</td>\n",
       "      <td>52.0</td>\n",
       "      <td>2.0</td>\n",
       "      <td>1250.0</td>\n",
       "      <td>2.0</td>\n",
       "      <td>1.0</td>\n",
       "      <td>0.0</td>\n",
       "      <td>1.0</td>\n",
       "      <td>0.0</td>\n",
       "      <td>0.0</td>\n",
       "      <td>1.0</td>\n",
       "      <td>57.0</td>\n",
       "      <td>1</td>\n",
       "    </tr>\n",
       "  </tbody>\n",
       "</table>\n",
       "</div>"
      ],
      "text/plain": [
       "   Id   age  years_of_experience  lesson_price  qualification  physics  \\\n",
       "0   0  35.0                  0.0        2150.0            2.0      0.0   \n",
       "1   1  52.0                  2.0        1250.0            2.0      1.0   \n",
       "\n",
       "   chemistry  biology  english  geography  history  mean_exam_points  choose  \n",
       "0        0.0      0.0      0.0        0.0      0.0              74.0       0  \n",
       "1        0.0      1.0      0.0        0.0      1.0              57.0       1  "
      ]
     },
     "execution_count": 4,
     "metadata": {},
     "output_type": "execute_result"
    }
   ],
   "source": [
    "df = pd.read_csv(path  + 'train.csv')\n",
    "df.head(2)"
   ]
  },
  {
   "cell_type": "code",
   "execution_count": 5,
   "metadata": {},
   "outputs": [
    {
     "name": "stdout",
     "output_type": "stream",
     "text": [
      "X.shape =  (10000, 12)\n",
      "y.shape =  (10000,)\n"
     ]
    }
   ],
   "source": [
    "TARGET_NAME = 'choose'\n",
    "X = df.drop(TARGET_NAME, axis=1)\n",
    "y = df[TARGET_NAME]\n",
    "print('X.shape = ', X.shape)\n",
    "print('y.shape = ', y.shape)"
   ]
  },
  {
   "cell_type": "code",
   "execution_count": 6,
   "metadata": {},
   "outputs": [
    {
     "data": {
      "text/plain": [
       "0    8891\n",
       "1    1109\n",
       "Name: choose, dtype: int64"
      ]
     },
     "execution_count": 6,
     "metadata": {},
     "output_type": "execute_result"
    }
   ],
   "source": [
    "y.value_counts()"
   ]
  },
  {
   "cell_type": "code",
   "execution_count": 7,
   "metadata": {},
   "outputs": [
    {
     "name": "stdout",
     "output_type": "stream",
     "text": [
      "(10000, 12)\n"
     ]
    },
    {
     "data": {
      "text/html": [
       "<div>\n",
       "<style scoped>\n",
       "    .dataframe tbody tr th:only-of-type {\n",
       "        vertical-align: middle;\n",
       "    }\n",
       "\n",
       "    .dataframe tbody tr th {\n",
       "        vertical-align: top;\n",
       "    }\n",
       "\n",
       "    .dataframe thead th {\n",
       "        text-align: right;\n",
       "    }\n",
       "</style>\n",
       "<table border=\"1\" class=\"dataframe\">\n",
       "  <thead>\n",
       "    <tr style=\"text-align: right;\">\n",
       "      <th></th>\n",
       "      <th>Id</th>\n",
       "      <th>age</th>\n",
       "      <th>years_of_experience</th>\n",
       "      <th>lesson_price</th>\n",
       "      <th>qualification</th>\n",
       "      <th>physics</th>\n",
       "      <th>chemistry</th>\n",
       "      <th>biology</th>\n",
       "      <th>english</th>\n",
       "      <th>geography</th>\n",
       "      <th>history</th>\n",
       "      <th>mean_exam_points</th>\n",
       "    </tr>\n",
       "  </thead>\n",
       "  <tbody>\n",
       "    <tr>\n",
       "      <th>0</th>\n",
       "      <td>10000</td>\n",
       "      <td>32.0</td>\n",
       "      <td>2.0</td>\n",
       "      <td>2700.0</td>\n",
       "      <td>3.0</td>\n",
       "      <td>0.0</td>\n",
       "      <td>0.0</td>\n",
       "      <td>0.0</td>\n",
       "      <td>0.0</td>\n",
       "      <td>0.0</td>\n",
       "      <td>0.0</td>\n",
       "      <td>90.0</td>\n",
       "    </tr>\n",
       "    <tr>\n",
       "      <th>1</th>\n",
       "      <td>10001</td>\n",
       "      <td>35.0</td>\n",
       "      <td>6.0</td>\n",
       "      <td>1800.0</td>\n",
       "      <td>2.0</td>\n",
       "      <td>1.0</td>\n",
       "      <td>1.0</td>\n",
       "      <td>0.0</td>\n",
       "      <td>0.0</td>\n",
       "      <td>0.0</td>\n",
       "      <td>0.0</td>\n",
       "      <td>71.0</td>\n",
       "    </tr>\n",
       "  </tbody>\n",
       "</table>\n",
       "</div>"
      ],
      "text/plain": [
       "      Id   age  years_of_experience  lesson_price  qualification  physics  \\\n",
       "0  10000  32.0                  2.0        2700.0            3.0      0.0   \n",
       "1  10001  35.0                  6.0        1800.0            2.0      1.0   \n",
       "\n",
       "   chemistry  biology  english  geography  history  mean_exam_points  \n",
       "0        0.0      0.0      0.0        0.0      0.0              90.0  \n",
       "1        1.0      0.0      0.0        0.0      0.0              71.0  "
      ]
     },
     "execution_count": 7,
     "metadata": {},
     "output_type": "execute_result"
    }
   ],
   "source": [
    "X_final = pd.read_csv(path  + 'test.csv')\n",
    "print(X_final.shape)\n",
    "X_final.head(2)"
   ]
  },
  {
   "cell_type": "code",
   "execution_count": 8,
   "metadata": {},
   "outputs": [
    {
     "name": "stdout",
     "output_type": "stream",
     "text": [
      "(10000, 2)\n"
     ]
    },
    {
     "data": {
      "text/html": [
       "<div>\n",
       "<style scoped>\n",
       "    .dataframe tbody tr th:only-of-type {\n",
       "        vertical-align: middle;\n",
       "    }\n",
       "\n",
       "    .dataframe tbody tr th {\n",
       "        vertical-align: top;\n",
       "    }\n",
       "\n",
       "    .dataframe thead th {\n",
       "        text-align: right;\n",
       "    }\n",
       "</style>\n",
       "<table border=\"1\" class=\"dataframe\">\n",
       "  <thead>\n",
       "    <tr style=\"text-align: right;\">\n",
       "      <th></th>\n",
       "      <th>Id</th>\n",
       "      <th>choose</th>\n",
       "    </tr>\n",
       "  </thead>\n",
       "  <tbody>\n",
       "    <tr>\n",
       "      <th>0</th>\n",
       "      <td>10000</td>\n",
       "      <td>0.5</td>\n",
       "    </tr>\n",
       "    <tr>\n",
       "      <th>1</th>\n",
       "      <td>10001</td>\n",
       "      <td>0.5</td>\n",
       "    </tr>\n",
       "  </tbody>\n",
       "</table>\n",
       "</div>"
      ],
      "text/plain": [
       "      Id  choose\n",
       "0  10000     0.5\n",
       "1  10001     0.5"
      ]
     },
     "execution_count": 8,
     "metadata": {},
     "output_type": "execute_result"
    }
   ],
   "source": [
    "y_submit = pd.read_csv(path  + 'submission_example.csv')\n",
    "print(y_submit.shape)\n",
    "y_submit.head(2)"
   ]
  },
  {
   "cell_type": "markdown",
   "metadata": {},
   "source": [
    "### EDA"
   ]
  },
  {
   "cell_type": "code",
   "execution_count": 9,
   "metadata": {},
   "outputs": [],
   "source": [
    "FEATURE_NAMES = ['age', 'years_of_experience', 'lesson_price', 'qualification', 'mean_exam_points']\n",
    "SUBJECTS = ['physics', 'chemistry', 'biology', 'english', 'geography', 'history' ]\n",
    "NUMERIC_FEATURE_NAMES = FEATURE_NAMES + SUBJECTS"
   ]
  },
  {
   "cell_type": "code",
   "execution_count": 10,
   "metadata": {},
   "outputs": [
    {
     "data": {
      "image/png": "[encoded data removed]",
      "text/plain": [
       "<Figure size 576x576 with 6 Axes>"
      ]
     },
     "metadata": {
      "needs_background": "light"
     },
     "output_type": "display_data"
    }
   ],
   "source": [
    "df.loc[:, FEATURE_NAMES].hist(figsize=(8, 8), bins=15, grid=False);"
   ]
  },
  {
   "cell_type": "code",
   "execution_count": 11,
   "metadata": {},
   "outputs": [
    {
     "data": {
      "image/png": "[encoded data removed]",
      "text/plain": [
       "<Figure size 576x576 with 6 Axes>"
      ]
     },
     "metadata": {
      "needs_background": "light"
     },
     "output_type": "display_data"
    }
   ],
   "source": [
    "df.loc[:, SUBJECTS].hist(figsize=(8, 8), bins=4, grid=False);"
   ]
  },
  {
   "cell_type": "code",
   "execution_count": 12,
   "metadata": {},
   "outputs": [
    {
     "data": {
      "text/plain": [
       "Id                     0\n",
       "age                    0\n",
       "years_of_experience    0\n",
       "lesson_price           0\n",
       "qualification          0\n",
       "physics                0\n",
       "chemistry              0\n",
       "biology                0\n",
       "english                0\n",
       "geography              0\n",
       "history                0\n",
       "mean_exam_points       0\n",
       "choose                 0\n",
       "dtype: int64"
      ]
     },
     "execution_count": 12,
     "metadata": {},
     "output_type": "execute_result"
    }
   ],
   "source": [
    "len(df) - df.count()"
   ]
  },
  {
   "cell_type": "markdown",
   "metadata": {},
   "source": [
    "### Data Engineering"
   ]
  },
  {
   "cell_type": "code",
   "execution_count": 13,
   "metadata": {},
   "outputs": [],
   "source": [
    "class FeatureGenerator:\n",
    "    def __init__(self):\n",
    "        self.var_grades = {'age': [40, 53, 59, 9999],\n",
    "                           'years_of_experience': [6, 9999],\n",
    "                           'lesson_price': [1200, 1600, 2500, 9999],\n",
    "                           'mean_exam_points': [55, 60, 65, 70, 75, 85, 9999],\n",
    "                           'qualification': [1, 2, 3, 4],\n",
    "                           'subject': [0, 1]}\n",
    "        \n",
    "\n",
    "   # age, years_of_experience, lesson_price, mean_exam_points    \n",
    "    def WOE_calc1(self, var_name):\n",
    "        WOE = {} \n",
    "        i0 = 0\n",
    "        for i in self.var_grades[var_name]:\n",
    "            a = df.loc[(df[var_name] >= i0) & (df[var_name] < i), 'choose'].mean()\n",
    "            WOE[i] = np.log(a / (1 - a))\n",
    "            i0 = i  \n",
    "        return WOE     \n",
    "    \n",
    "    \n",
    "    def fit(self, X, y=None):\n",
    "        df = X.copy()\n",
    "        \n",
    "        if y is not None:\n",
    "            df['choose'] = y.values\n",
    "            \n",
    "            self.age_WOE = self.WOE_calc1(var_name='age')\n",
    "            self.years_of_experience_WOE = self.WOE_calc1(var_name='years_of_experience')\n",
    "            self.lesson_price_WOE = self.WOE_calc1(var_name='lesson_price')\n",
    "            self.mean_exam_points_WOE = self.WOE_calc1(var_name='mean_exam_points')            \n",
    "            \n",
    "            # qualification\n",
    "            WOE = {} \n",
    "            i0 = 0\n",
    "            for i in self.var_grades['qualification']:\n",
    "                a = df.loc[df['qualification'] == i, 'choose'].mean()\n",
    "                WOE[i] = np.log(a / (1 - a))\n",
    "                i0 = i\n",
    "            self.qualification_WOE = WOE                \n",
    "            \n",
    "            # SUBJECTS\n",
    "            WOE_collection = {}\n",
    "            for subject in SUBJECTS:\n",
    "                WOE = {}\n",
    "                for i in self.var_grades['subject']:\n",
    "                    a=df.loc[df[subject]==i, 'choose'].mean()\n",
    "                    df.loc[df[subject]==i, subject] = np.log(a / (1 - a))\n",
    "                    WOE[i] = np.log(a / (1 - a))\n",
    "                WOE_collection[subject] = WOE\n",
    "            self.subjects_WOE = WOE_collection\n",
    "        \n",
    "            \n",
    "    def transform(self, X):\n",
    "        # age\n",
    "        i0 = 0\n",
    "        for i in self.var_grades['age']:\n",
    "            X.loc[(X.age >= i0) & (X.age < i), 'age'] = self.age_WOE[i] \n",
    "            i0 = i\n",
    "            \n",
    "        # years_of_experience\n",
    "        i0 = 0\n",
    "        for i in self.var_grades['years_of_experience']:\n",
    "            X.loc[(X.years_of_experience >= i0) & (X.years_of_experience < i), 'years_of_experience'] =\\\n",
    "                                                                                 self.years_of_experience_WOE[i] \n",
    "            i0 = i\n",
    "        \n",
    "        # lesson_price\n",
    "        i0 = 0\n",
    "        for i in self.var_grades['lesson_price']:\n",
    "            X.loc[(X.lesson_price >= i0) & (X.lesson_price < i), 'lesson_price'] = self.lesson_price_WOE[i] \n",
    "            i0 = i\n",
    "            \n",
    "        # mean_exam_points\n",
    "        i0 = 0\n",
    "        for i in self.var_grades['mean_exam_points']:\n",
    "            X.loc[(X.mean_exam_points >= i0) & (X.mean_exam_points < i), 'mean_exam_points'] = self.mean_exam_points_WOE[i] \n",
    "            i0 = i\n",
    "            \n",
    "        # qualification\n",
    "        for i in self.var_grades['qualification']:   \n",
    "            X.loc[X.qualification == i, 'qualification'] = self.qualification_WOE[i]\n",
    "        \n",
    "        # SUBJECTS\n",
    "        for subject in SUBJECTS:\n",
    "            for i in self.var_grades['subject']: \n",
    "                X.loc[X[subject] == i, subject] = self.subjects_WOE[subject][i]\n",
    "                \n",
    "        return X"
   ]
  },
  {
   "cell_type": "markdown",
   "metadata": {},
   "source": [
    "### Разбивка выборки на тренировочную и тестовую"
   ]
  },
  {
   "cell_type": "code",
   "execution_count": 14,
   "metadata": {},
   "outputs": [],
   "source": [
    "X_train, X_test, y_train, y_test = train_test_split(X, y, \n",
    "                                                    shuffle=True,\n",
    "                                                    stratify = y,\n",
    "                                                    test_size=0.5, random_state=42)"
   ]
  },
  {
   "cell_type": "code",
   "execution_count": 15,
   "metadata": {},
   "outputs": [],
   "source": [
    "features = FeatureGenerator()\n",
    "features.fit(X_train, y_train)\n",
    "X_train = features.transform(X_train)\n",
    "X_test = features.transform(X_test)"
   ]
  },
  {
   "cell_type": "markdown",
   "metadata": {},
   "source": [
    "### Отбор признаков"
   ]
  },
  {
   "cell_type": "code",
   "execution_count": 16,
   "metadata": {},
   "outputs": [],
   "source": [
    "SELECTED_FEATURE_NAMES = ['age', 'years_of_experience', 'lesson_price', 'mean_exam_points', 'qualification',\n",
    "                          'physics', 'chemistry', 'biology', 'english', 'geography', 'history'\n",
    "                         ]"
   ]
  },
  {
   "cell_type": "markdown",
   "metadata": {},
   "source": [
    "### Модель"
   ]
  },
  {
   "cell_type": "code",
   "execution_count": 17,
   "metadata": {},
   "outputs": [],
   "source": [
    "class Node:\n",
    "    \n",
    "    def __init__(self, index, t, true_branch, false_branch):\n",
    "        self.index = index  # индекс признака, по которому ведется сравнение с порогом в этом узле\n",
    "        self.t = t  # значение порога\n",
    "        self.true_branch = true_branch  # поддерево, удовлетворяющее условию в узле\n",
    "        self.false_branch = false_branch  # поддерево, не удовлетворяющее условию в узле"
   ]
  },
  {
   "cell_type": "code",
   "execution_count": 18,
   "metadata": {},
   "outputs": [],
   "source": [
    "class Leaf:\n",
    "    \n",
    "    def __init__(self, data, labels):\n",
    "        self.data = data\n",
    "        self.labels = labels\n",
    "        self.prediction = self.predict()\n",
    "        \n",
    "    def predict(self):\n",
    "        z = np.mean(self.labels)\n",
    "        return 1 / (1 + np.exp(-z)) #0.55"
   ]
  },
  {
   "cell_type": "code",
   "execution_count": 19,
   "metadata": {},
   "outputs": [],
   "source": [
    "random.seed(42)\n",
    "\n",
    "class RandomForest:\n",
    "    \n",
    "    def __init__(self, n_trees, min_leaf, criteria):\n",
    "        self.n_trees = n_trees\n",
    "        self.min_leaf = min_leaf\n",
    "        self.criteria = criteria\n",
    "             \n",
    "        \n",
    "    def info_criteria(self, labels):\n",
    "        if self.criteria=='variance': \n",
    "            return np.mean((labels - np.mean(labels))**2) \n",
    "        #  подсчет количества объектов разных классов\n",
    "        classes = {}\n",
    "        for label in labels:\n",
    "            if label not in classes:\n",
    "                classes[label] = 0\n",
    "            classes[label] += 1\n",
    "\n",
    "        #  расчет критерия\n",
    "        entropy_ = 0\n",
    "        impurity = 1    \n",
    "        for label in classes:\n",
    "            p = classes[label] / len(labels)\n",
    "            entropy_ -= p * np.log2(p)\n",
    "            impurity -= p ** 2    \n",
    "\n",
    "        if self.criteria == 'entropy':        \n",
    "            return entropy_\n",
    "        elif self.criteria == 'gini':\n",
    "            return impurity\n",
    "        \n",
    "        \n",
    "    # Расчет качества\n",
    "    def quality(self, true_labels, false_labels, current_criteria):        \n",
    "        # доля выбоки, ушедшая в левое поддерево\n",
    "        p = float(true_labels.shape[0]) / (true_labels.shape[0] + false_labels.shape[0])\n",
    "        return current_criteria - p * self.info_criteria(true_labels) - (1 - p) * self.info_criteria(false_labels)         \n",
    "        \n",
    "        \n",
    "    # Разбиение датасета в узле\n",
    "    def split(self, data, labels, index, t):\n",
    "\n",
    "        left = np.where(data[:, index] <= t)\n",
    "        right = np.where(data[:, index] > t)\n",
    "\n",
    "        true_data = data[left]\n",
    "        false_data = data[right]\n",
    "        true_labels = labels[left]\n",
    "        false_labels = labels[right]\n",
    "\n",
    "        return true_data, false_data, true_labels, false_labels\n",
    "    \n",
    "    \n",
    "    def get_subsample(self, n_features):\n",
    "        # будем сохранять не сами признаки, а их индексы\n",
    "        sample_indexes = [i for i in range(n_features)]\n",
    "\n",
    "        len_subsample = int(np.sqrt(n_features))\n",
    "        subsample = []\n",
    "\n",
    "        random.shuffle(sample_indexes)\n",
    "        for _ in range(len_subsample):\n",
    "            subsample.append(sample_indexes.pop())\n",
    "\n",
    "        return subsample\n",
    "        \n",
    "        \n",
    "    # Нахождение наилучшего разбиения\n",
    "    def find_best_split(self, data, labels):\n",
    "\n",
    "        current_criteria = self.info_criteria(labels)\n",
    "\n",
    "        best_quality = 0\n",
    "        best_t = None\n",
    "        best_index = None        \n",
    "        \n",
    "        n_features = data.shape[1]\n",
    "    \n",
    "        # выбор индекса из подвыборки длиной sqrt(n_features)\n",
    "        subsample = self.get_subsample(n_features)\n",
    "\n",
    "        for index in subsample:\n",
    "            # будем проверять только уникальные значения признака, исключая повторения\n",
    "            t_values = np.unique([row[index] for row in data])\n",
    "\n",
    "            for t in t_values:\n",
    "                true_data, false_data, true_labels, false_labels = self.split(data, labels, index, t)\n",
    "                \n",
    "                #  пропускаем разбиения, в которых в узле остается менее 5 объектов\n",
    "                if len(true_data) < self.min_leaf or len(false_data) < self.min_leaf:\n",
    "                    continue\n",
    "\n",
    "                current_quality = self.quality(true_labels, false_labels, current_criteria)\n",
    "\n",
    "                #  выбираем порог, на котором получается максимальный прирост качества\n",
    "                if current_quality > best_quality:\n",
    "                    best_quality, best_t, best_index = current_quality, t, index\n",
    "                    \n",
    "        return best_quality, best_t, best_index        \n",
    "          \n",
    "        \n",
    "    # Построение дерева с помощью рекурсивной функции\n",
    "    def build_tree(self, data, labels): \n",
    "\n",
    "        quality, t, index = self.find_best_split(data, labels)        \n",
    "\n",
    "        #  Базовый случай - прекращаем рекурсию, когда нет прироста в качества\n",
    "        if quality == 0:\n",
    "            return Leaf(data, labels)\n",
    "\n",
    "        true_data, false_data, true_labels, false_labels = self.split(data, labels, index, t)        \n",
    "\n",
    "        # Рекурсивно строим два поддерева\n",
    "        true_branch = self.build_tree(true_data, true_labels)\n",
    "        false_branch = self.build_tree(false_data, false_labels)\n",
    "\n",
    "        # Возвращаем класс узла со всеми поддеревьями, то есть целого дерева        \n",
    "        return Node(index, t, true_branch, false_branch)\n",
    "    \n",
    "    \n",
    "    \n",
    "    def get_bootstrap(self, data, labels):\n",
    "        n_samples = data.shape[0]\n",
    "        bootstrap = []        \n",
    "       \n",
    "        for i in range(self.n_trees):\n",
    "            b_data = np.zeros(data.shape)\n",
    "            b_labels = np.zeros(labels.shape)            \n",
    "          \n",
    "            for j in range(n_samples):\n",
    "                sample_index = random.randint(0, n_samples-1) \n",
    "                b_data[j] = data[sample_index]\n",
    "                b_labels[j] = labels[sample_index]                \n",
    "                \n",
    "            bootstrap.append((b_data, b_labels))\n",
    "        \n",
    "        return bootstrap\n",
    " \n",
    "         \n",
    "    def fit(self, data, labels):\n",
    "        forest = []\n",
    "        bootstrap = self.get_bootstrap(data, labels)\n",
    "\n",
    "        for b_data, b_labels in bootstrap:            \n",
    "            forest.append(self.build_tree(b_data, b_labels))\n",
    "            \n",
    "        self.forest = forest\n",
    "        \n",
    "    \n",
    "    def classify_object(self, obj, node):\n",
    "        #  Останавливаем рекурсию, если достигли листа\n",
    "        if isinstance(node, Leaf):\n",
    "            answer = node.prediction\n",
    "            return answer\n",
    "\n",
    "        if obj[node.index] <= node.t:\n",
    "            return self.classify_object(obj, node.true_branch)\n",
    "        else:\n",
    "            return self.classify_object(obj, node.false_branch)\n",
    "        \n",
    "        \n",
    "    def predict_tree(self, data, tree):        \n",
    "        classes = []\n",
    "        for obj in data:\n",
    "            prediction = self.classify_object(obj, tree)        \n",
    "            classes.append(prediction)\n",
    "        return classes\n",
    "    \n",
    "    \n",
    "    # предсказание голосованием деревьев\n",
    "    def predict(self, data):\n",
    "        # добавим предсказания всех деревьев в список\n",
    "        predictions = []\n",
    "        for tree in self.forest:\n",
    "            predictions.append(self.predict_tree(data, tree))\n",
    "\n",
    "        # сформируем список с предсказаниями для каждого объекта\n",
    "        predictions_per_object = list(zip(*predictions))\n",
    "\n",
    "        # выберем в качестве итогового предсказания для каждого объекта то,\n",
    "        # за которое проголосовало большинство деревьев\n",
    "        voted_predictions = []\n",
    "        for obj in predictions_per_object:\n",
    "            voted_predictions.append(max(set(obj), key=obj.count))\n",
    "\n",
    "        return voted_predictions"
   ]
  },
  {
   "cell_type": "code",
   "execution_count": 20,
   "metadata": {},
   "outputs": [],
   "source": [
    "def metrics(y, y_pred):\n",
    "    y = y.values\n",
    "    y_pred = np.array(y_pred)\n",
    "    sum_0 = 0\n",
    "    sum_1 = 0\n",
    "    for i in range(len(y)):\n",
    "        for j in range(len(y)):\n",
    "            if y_pred[i] > y_pred[j]: ind_pred = 0 \n",
    "            if y_pred[i] ==y_pred[j]: ind_pred = 0.5\n",
    "            if y_pred[i] < y_pred[j]: ind_pred = 1\n",
    "\n",
    "            if y[i] >=y[j]: ind_y = 0\n",
    "            if y[i] < y[j]: ind_y = 1\n",
    "\n",
    "            sum_0 += ind_pred * ind_y\n",
    "            sum_1 += ind_y\n",
    "\n",
    "    AUC_ROC_score = sum_0 / sum_1\n",
    "    print('AUC_ROC_score = ', AUC_ROC_score) "
   ]
  },
  {
   "cell_type": "code",
   "execution_count": 21,
   "metadata": {},
   "outputs": [],
   "source": [
    "forest = RandomForest(n_trees=50, min_leaf=12, criteria='entropy') #gini\n",
    "forest.fit(np.array(X_train[SELECTED_FEATURE_NAMES]), np.array(y_train))\n",
    "\n",
    "y_pred_train = forest.predict(np.array(X_train[SELECTED_FEATURE_NAMES]))\n",
    "y_pred_test = forest.predict(np.array(X_test[SELECTED_FEATURE_NAMES]))"
   ]
  },
  {
   "cell_type": "code",
   "execution_count": 22,
   "metadata": {},
   "outputs": [
    {
     "name": "stdout",
     "output_type": "stream",
     "text": [
      "AUC_ROC_score =  0.8105724622260055\n"
     ]
    }
   ],
   "source": [
    "metrics(y_train, y_pred_train)"
   ]
  },
  {
   "cell_type": "code",
   "execution_count": 23,
   "metadata": {},
   "outputs": [
    {
     "name": "stdout",
     "output_type": "stream",
     "text": [
      "AUC_ROC_score =  0.721709450428812\n"
     ]
    }
   ],
   "source": [
    "metrics(y_test, y_pred_test)"
   ]
  },
  {
   "cell_type": "markdown",
   "metadata": {},
   "source": [
    "### Прогнозирование на тестовом датасете"
   ]
  },
  {
   "cell_type": "code",
   "execution_count": 24,
   "metadata": {},
   "outputs": [],
   "source": [
    "features = FeatureGenerator()\n",
    "features.fit(X, y)\n",
    "X = features.transform(X)\n",
    "X_final = features.transform(X_final)"
   ]
  },
  {
   "cell_type": "code",
   "execution_count": 25,
   "metadata": {},
   "outputs": [],
   "source": [
    "forest.fit(np.array(X[SELECTED_FEATURE_NAMES]), np.array(y))\n",
    "y_pred_final = forest.predict(np.array(X_final[SELECTED_FEATURE_NAMES]))"
   ]
  },
  {
   "cell_type": "code",
   "execution_count": 26,
   "metadata": {},
   "outputs": [
    {
     "data": {
      "text/html": [
       "<div>\n",
       "<style scoped>\n",
       "    .dataframe tbody tr th:only-of-type {\n",
       "        vertical-align: middle;\n",
       "    }\n",
       "\n",
       "    .dataframe tbody tr th {\n",
       "        vertical-align: top;\n",
       "    }\n",
       "\n",
       "    .dataframe thead th {\n",
       "        text-align: right;\n",
       "    }\n",
       "</style>\n",
       "<table border=\"1\" class=\"dataframe\">\n",
       "  <thead>\n",
       "    <tr style=\"text-align: right;\">\n",
       "      <th></th>\n",
       "      <th>Id</th>\n",
       "      <th>choose</th>\n",
       "    </tr>\n",
       "  </thead>\n",
       "  <tbody>\n",
       "    <tr>\n",
       "      <th>0</th>\n",
       "      <td>10000</td>\n",
       "      <td>0.500000</td>\n",
       "    </tr>\n",
       "    <tr>\n",
       "      <th>1</th>\n",
       "      <td>10001</td>\n",
       "      <td>0.549834</td>\n",
       "    </tr>\n",
       "  </tbody>\n",
       "</table>\n",
       "</div>"
      ],
      "text/plain": [
       "      Id    choose\n",
       "0  10000  0.500000\n",
       "1  10001  0.549834"
      ]
     },
     "execution_count": 26,
     "metadata": {},
     "output_type": "execute_result"
    }
   ],
   "source": [
    "y_submit['choose'] = y_pred_final\n",
    "y_submit.to_csv(path + 'predictions.csv', index=False)\n",
    "y_submit.head(2)"
   ]
  }
 ],
 "metadata": {
  "kernelspec": {
   "display_name": "Python 3",
   "language": "python",
   "name": "python3"
  },
  "language_info": {
   "codemirror_mode": {
    "name": "ipython",
    "version": 3
   },
   "file_extension": ".py",
   "mimetype": "text/x-python",
   "name": "python",
   "nbconvert_exporter": "python",
   "pygments_lexer": "ipython3",
   "version": "3.8.2"
  }
 },
 "nbformat": 4,
 "nbformat_minor": 4
}
