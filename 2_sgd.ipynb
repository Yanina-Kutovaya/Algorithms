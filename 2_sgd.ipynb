{
 "cells": [
  {
   "cell_type": "code",
   "execution_count": 1,
   "metadata": {},
   "outputs": [],
   "source": [
    "import numpy as np\n",
    "import matplotlib.pyplot as plt\n",
    "\n",
    "from sklearn.datasets import make_regression"
   ]
  },
  {
   "cell_type": "markdown",
   "metadata": {},
   "source": [
    "### Задание 1. \n",
    "Сгенерировать датасет при помощи sklearn.datasets.make_regression и обучить линейную модель при помощи градиентного и стохастического градиентного спуска. Нанести среднеквадратичную ошибку для обоих методов на один график, сделать выводы о разнице скорости сходимости каждого из методов."
   ]
  },
  {
   "cell_type": "code",
   "execution_count": 2,
   "metadata": {},
   "outputs": [],
   "source": [
    "X, y = make_regression(n_samples=100, n_features=15)"
   ]
  },
  {
   "cell_type": "code",
   "execution_count": 3,
   "metadata": {},
   "outputs": [],
   "source": [
    "def calc_mse(y, y_pred):\n",
    "    err = np.mean((y - y_pred)**2)\n",
    "    return err"
   ]
  },
  {
   "cell_type": "markdown",
   "metadata": {},
   "source": [
    "#### Градиентный спуск"
   ]
  },
  {
   "cell_type": "code",
   "execution_count": 4,
   "metadata": {},
   "outputs": [
    {
     "name": "stdout",
     "output_type": "stream",
     "text": [
      "0 32595.939872144336\n",
      "15 0.002214321221076863\n",
      "\n",
      "скорость обучения (alpha) = 0.4\n",
      "количество итераций = 15\n"
     ]
    }
   ],
   "source": [
    "alpha = 0.4\n",
    "W = np.ones(X.shape[1])\n",
    "\n",
    "n = X.shape[0]\n",
    "err, err_prev = 0, 1\n",
    "i = 0\n",
    "while (np.abs(err_prev - err)) > 0.005: \n",
    "    y_pred = np.dot(X, W)   \n",
    "    err_prev, err = err, calc_mse(y, y_pred)    \n",
    "    W -= (alpha * (1/n * 2 * np.dot(X.T,(y_pred - y))))\n",
    "    if i % n == 0:\n",
    "        print(i, err)\n",
    "    i += 1    \n",
    "n_iter_new = i\n",
    "if i % n != 0:\n",
    "    print(i, err)\n",
    "print('\\nскорость обучения (alpha) =', alpha)\n",
    "print('количество итераций =', n_iter_new)"
   ]
  },
  {
   "cell_type": "markdown",
   "metadata": {},
   "source": [
    "#### Стохастический градиентный спуск"
   ]
  },
  {
   "cell_type": "code",
   "execution_count": 5,
   "metadata": {},
   "outputs": [
    {
     "name": "stdout",
     "output_type": "stream",
     "text": [
      "0 37210.14873537464\n",
      "100 1662.9480334904347\n",
      "200 1611.4463926431174\n",
      "300 484.0061740487649\n",
      "400 8.603634944422762\n",
      "500 23.748204132062067\n",
      "600 0.4972192154770753\n",
      "700 5.981653091476679\n",
      "796 0.032367352152830084\n",
      "\n",
      "скорость обучения (alpha) = 0.4\n",
      "количество итераций = 796\n"
     ]
    }
   ],
   "source": [
    "np.random.seed(42)\n",
    "\n",
    "W = np.ones(X.shape[1])\n",
    "err, err_prev = 0, 1\n",
    "i = 0\n",
    "while (np.abs(err_prev - err)) > 0.005: \n",
    "    train_ind = np.random.randint(X.shape[0])\n",
    "    y_pred = np.dot(X[train_ind], W)    \n",
    "    err_prev, err = err, calc_mse(y[train_ind], y_pred)\n",
    "    \n",
    "    W -= (alpha * (1/n * 2 * np.dot(X[train_ind].T, (y_pred - y[train_ind]))))\n",
    "    if i % 100 == 0:\n",
    "        print(i, err)\n",
    "    i += 1    \n",
    "n_iter_new = i\n",
    "if i % n != 0:\n",
    "    print(i, err)\n",
    "print('\\nскорость обучения (alpha) =', alpha)\n",
    "print('количество итераций =', n_iter_new)"
   ]
  },
  {
   "cell_type": "code",
   "execution_count": 6,
   "metadata": {},
   "outputs": [
    {
     "data": {
      "image/png": "[encoded data removed]",
      "text/plain": [
       "<Figure size 432x288 with 1 Axes>"
      ]
     },
     "metadata": {
      "needs_background": "light"
     },
     "output_type": "display_data"
    }
   ],
   "source": [
    "def cost_history(alpha, n_iter, gd_type):\n",
    "    W = np.ones(X.shape[1])\n",
    "    cost_history = []\n",
    "    for i in range(n_iter):\n",
    "        if gd_type == 0:\n",
    "            y_pred = np.dot(X, W)\n",
    "            err = calc_mse(y, y_pred) \n",
    "            W -= (alpha * (1/n * 2 * np.dot(X.T,(y_pred - y))))\n",
    "        else:\n",
    "            train_ind = np.random.randint(X.shape[0])\n",
    "            y_pred = np.dot(X[train_ind], W)\n",
    "            err = calc_mse(y[train_ind], y_pred)\n",
    "            W -= (alpha * (1/n * 2 * np.dot(X[train_ind].T, (y_pred - y[train_ind]))))\n",
    "        cost_history.append(err)\n",
    "    return cost_history\n",
    "\n",
    "n_iter = 1000\n",
    "fig = plt.figure()\n",
    "ax1 = fig.add_subplot(111)\n",
    "\n",
    "ax1.scatter(range(n_iter), cost_history(alpha, n_iter, 0), s=20, c='b', marker=\"s\", label='gradient descent')\n",
    "ax1.scatter(range(n_iter), cost_history(alpha, n_iter, 1), s=2, c='r', marker=\"o\", label='sgd')\n",
    "\n",
    "plt.title('MSE')\n",
    "plt.xlabel('Iteration number')\n",
    "plt.ylabel('MSE')\n",
    "plt.legend(loc='upper right');\n",
    "plt.show()"
   ]
  },
  {
   "cell_type": "markdown",
   "metadata": {},
   "source": [
    "Скорость сходимости стохастического градиентного спуска значительно ниже, чем у градиентного спуска"
   ]
  },
  {
   "cell_type": "markdown",
   "metadata": {},
   "source": [
    "### Задание 2.\n",
    "Модифицировать решение первого задания путем добавления  L2 -регуляризации (в функцию, считающую MSE, нужно добавить норму вектора весов) и сравнить результаты."
   ]
  },
  {
   "cell_type": "code",
   "execution_count": 7,
   "metadata": {},
   "outputs": [],
   "source": [
    "def ridge_err(y, y_pred, L, W):\n",
    "    err = np.mean((y - y_pred)**2 + L*np.dot(W.T, W))\n",
    "    return err"
   ]
  },
  {
   "cell_type": "markdown",
   "metadata": {},
   "source": [
    "#### Градиентный спуск"
   ]
  },
  {
   "cell_type": "code",
   "execution_count": 8,
   "metadata": {},
   "outputs": [
    {
     "name": "stdout",
     "output_type": "stream",
     "text": [
      "0 32603.439872144336\n",
      "10 18378.627241344388\n",
      "20 18391.02979409059\n",
      "28 18391.14855526157\n",
      "\n",
      "скорость обучения (alpha) = 0.4\n",
      "количество итераций = 28\n"
     ]
    }
   ],
   "source": [
    "alpha = 0.4\n",
    "W = np.ones(X.shape[1])\n",
    "L = 0.5\n",
    "n = X.shape[0]\n",
    "err, err_prev = 0, 1\n",
    "i = 0\n",
    "while (np.abs(err_prev - err)) > 0.005: \n",
    "    y_pred = np.dot(X, W)   \n",
    "    err_prev, err = err, ridge_err(y, y_pred, L, W)    \n",
    "    W -= (alpha * (2/n * (np.dot(X.T,(y_pred - y)) + L * W)))\n",
    "    if i % 10 == 0:\n",
    "        print(i, err)\n",
    "    i += 1    \n",
    "n_iter_new = i\n",
    "if i % n != 0:\n",
    "    print(i, err)\n",
    "print('\\nскорость обучения (alpha) =', alpha)\n",
    "print('количество итераций =', n_iter_new)"
   ]
  },
  {
   "cell_type": "markdown",
   "metadata": {},
   "source": [
    "#### Стохастический градиентный спуск"
   ]
  },
  {
   "cell_type": "code",
   "execution_count": 9,
   "metadata": {},
   "outputs": [
    {
     "name": "stdout",
     "output_type": "stream",
     "text": [
      "0 37217.64873537464\n",
      "100000 7146.003682079794\n",
      "200000 20838.42071454027\n",
      "300000 13538.151685499215\n",
      "400000 10294.579804659967\n",
      "500000 12244.223758736882\n",
      "600000 8268.438075086538\n",
      "700000 10792.44802399048\n",
      "749685 10227.601252576816\n",
      "\n",
      "скорость обучения (alpha) = 0.4\n",
      "количество итераций = 749685\n"
     ]
    }
   ],
   "source": [
    "np.random.seed(42)\n",
    "\n",
    "W = np.ones(X.shape[1])\n",
    "err, err_prev = 0, 1\n",
    "i = 0\n",
    "while (np.abs(err_prev - err)) > 0.005: \n",
    "    train_ind = np.random.randint(X.shape[0])\n",
    "    y_pred = np.dot(X[train_ind], W)    \n",
    "    err_prev, err = err, ridge_err(y[train_ind], y_pred, L, W)\n",
    "    \n",
    "    W -= (alpha * (2/n * (np.dot(X[train_ind].T, (y_pred - y[train_ind]))+ L * W)))\n",
    "    if i % 100000 == 0:\n",
    "        print(i, err)\n",
    "    i += 1    \n",
    "n_iter_new = i\n",
    "if i % n != 0:\n",
    "    print(i, err)\n",
    "print('\\nскорость обучения (alpha) =', alpha)\n",
    "print('количество итераций =', n_iter_new)"
   ]
  },
  {
   "cell_type": "code",
   "execution_count": 10,
   "metadata": {},
   "outputs": [
    {
     "data": {
      "image/png": "[encoded data removed]",
      "text/plain": [
       "<Figure size 432x288 with 1 Axes>"
      ]
     },
     "metadata": {
      "needs_background": "light"
     },
     "output_type": "display_data"
    }
   ],
   "source": [
    "def cost_history(alpha, n_iter, gd_type):\n",
    "    W = np.ones(X.shape[1])\n",
    "    cost_history = []\n",
    "    for i in range(n_iter):\n",
    "        if gd_type == 0:\n",
    "            y_pred = np.dot(X, W)\n",
    "            err = ridge_err(y, y_pred, L, W)\n",
    "            W -= (alpha * (2/n * (np.dot(X.T,(y_pred - y)) + L * W)))\n",
    "        else:\n",
    "            train_ind = np.random.randint(X.shape[0])\n",
    "            y_pred = np.dot(X[train_ind], W)\n",
    "            err = ridge_err(y[train_ind], y_pred, L, W)\n",
    "            W -= (alpha * (2/n * (np.dot(X[train_ind].T, (y_pred - y[train_ind]))+ L * W)))\n",
    "        cost_history.append(err)\n",
    "    return cost_history\n",
    "\n",
    "n_iter = 1000\n",
    "alpha = 0.4\n",
    "L = 0.5\n",
    "fig = plt.figure()\n",
    "ax1 = fig.add_subplot(111)\n",
    "\n",
    "ax1.scatter(range(n_iter), cost_history(alpha, n_iter, 0), s=20, c='b', marker=\"s\", label='gradient descent')\n",
    "ax1.scatter(range(n_iter), cost_history(alpha, n_iter, 1), s=2, c='r', marker=\"o\", label='sgd')\n",
    "\n",
    "plt.title('Ridge error')\n",
    "plt.xlabel('Iteration number')\n",
    "plt.ylabel('Ridge error')\n",
    "plt.legend(loc='upper right');\n",
    "plt.show()"
   ]
  },
  {
   "cell_type": "markdown",
   "metadata": {},
   "source": [
    "Добавлениe L2 -регуляризации замедляет сходимость стохастического градиентного спуска значительно в большей степени, чем сходимость градиентного спуска. Однако, если в ошибку суммировать веса, стохастический градиентного спуск часто показывет лучшие результаты по сравнению с градиентным спуском."
   ]
  }
 ],
 "metadata": {
  "kernelspec": {
   "display_name": "Python 3",
   "language": "python",
   "name": "python3"
  },
  "language_info": {
   "codemirror_mode": {
    "name": "ipython",
    "version": 3
   },
   "file_extension": ".py",
   "mimetype": "text/x-python",
   "name": "python",
   "nbconvert_exporter": "python",
   "pygments_lexer": "ipython3",
   "version": "3.8.2"
  }
 },
 "nbformat": 4,
 "nbformat_minor": 4
}
