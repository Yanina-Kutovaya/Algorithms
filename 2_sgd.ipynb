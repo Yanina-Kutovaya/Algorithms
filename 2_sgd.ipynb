{
 "cells": [
  {
   "cell_type": "code",
   "execution_count": 1,
   "metadata": {},
   "outputs": [],
   "source": [
    "import numpy as np\n",
    "import matplotlib.pyplot as plt\n",
    "\n",
    "from sklearn.datasets import make_regression"
   ]
  },
  {
   "cell_type": "markdown",
   "metadata": {},
   "source": [
    "### Задание 1. \n",
    "Сгенерировать датасет при помощи sklearn.datasets.make_regression и обучить линейную модель при помощи градиентного и стохастического градиентного спуска. Нанести среднеквадратичную ошибку для обоих методов на один график, сделать выводы о разнице скорости сходимости каждого из методов."
   ]
  },
  {
   "cell_type": "code",
   "execution_count": 2,
   "metadata": {},
   "outputs": [],
   "source": [
    "def calc_mse(y, y_pred):\n",
    "    err = np.mean((y - y_pred)**2)\n",
    "    return err"
   ]
  },
  {
   "cell_type": "code",
   "execution_count": 3,
   "metadata": {},
   "outputs": [],
   "source": [
    "def calc_mse_L2(y, y_pred, lambda_, W):\n",
    "    err = np.mean((y - y_pred)**2) + lambda_ * np.dot(W.T, W)\n",
    "    return err"
   ]
  },
  {
   "cell_type": "code",
   "execution_count": 4,
   "metadata": {},
   "outputs": [],
   "source": [
    "def cost_history(alpha, n_iter, gd_type='gd', reg = 'lr'):\n",
    "    W = np.ones(X.shape[1])\n",
    "    cost_history = []\n",
    "    for i in range(n_iter):\n",
    "        if (reg == 'lr') and (gd_type == 'gd'):\n",
    "            y_pred = np.dot(X, W)\n",
    "            err = calc_mse(y, y_pred) \n",
    "            W -= alpha * 2 / n * np.dot(X.T,(y_pred - y))\n",
    "            \n",
    "        elif (reg == 'lr') and (gd_type == 'sgd'):\n",
    "            train_ind = np.random.randint(X.shape[0])\n",
    "            y_pred = np.dot(X[train_ind], W)\n",
    "            err = calc_mse(y[train_ind], y_pred)\n",
    "            W -= alpha * 2 / n * np.dot(X[train_ind].T, (y_pred - y[train_ind]))\n",
    "            \n",
    "        elif (reg == 'ridge') and (gd_type == 'gd'):             \n",
    "            y_pred = np.dot(X, W)\n",
    "            err = calc_mse_L2(y, y_pred, lambda_, W) \n",
    "            W -= alpha * 2 / n * (np.dot(X.T,(y_pred - y)) + lambda_ * W)\n",
    "            \n",
    "        elif (reg == 'ridge') and (gd_type == 'sgd'): \n",
    "            train_ind = np.random.randint(X.shape[0])\n",
    "            y_pred = np.dot(X[train_ind], W)\n",
    "            err = calc_mse_L2(y[train_ind], y_pred, lambda_, W)\n",
    "            W -= alpha * 2 / n * (np.dot(X[train_ind].T, (y_pred - y[train_ind])) + lambda_ * W)\n",
    "            \n",
    "        cost_history.append(err)\n",
    "    return cost_history"
   ]
  },
  {
   "cell_type": "code",
   "execution_count": 5,
   "metadata": {},
   "outputs": [
    {
     "data": {
      "image/png": "[encoded data removed]",
      "text/plain": [
       "<Figure size 432x288 with 1 Axes>"
      ]
     },
     "metadata": {
      "needs_background": "light"
     },
     "output_type": "display_data"
    }
   ],
   "source": [
    "X, y = make_regression(n_samples=100, n_features=20)\n",
    "n = X.shape[0]\n",
    "alpha = 0.4\n",
    "n_iter = 1000\n",
    "\n",
    "fig = plt.figure()\n",
    "ax1 = fig.add_subplot(111)\n",
    "\n",
    "ax1.scatter(range(n_iter), cost_history(alpha, n_iter, 'gd'), s=20, c='b', marker=\"s\", label='gradient descent')\n",
    "ax1.scatter(range(n_iter), cost_history(alpha, n_iter, 'sgd'), s=2, c='r', marker=\"o\", label='sgd')\n",
    "\n",
    "plt.title('MSE')\n",
    "plt.xlabel('Iteration number')\n",
    "plt.ylabel('MSE')\n",
    "plt.legend(loc='upper right');\n",
    "plt.show()"
   ]
  },
  {
   "cell_type": "markdown",
   "metadata": {},
   "source": [
    "Скорость сходимости стохастического градиентного спуска значительно ниже, чем у градиентного спуска"
   ]
  },
  {
   "cell_type": "markdown",
   "metadata": {},
   "source": [
    "### Задание 2.\n",
    "Модифицировать решение первого задания путем добавления  L2 -регуляризации (в функцию, считающую MSE, нужно добавить норму вектора весов) и сравнить результаты."
   ]
  },
  {
   "cell_type": "code",
   "execution_count": 6,
   "metadata": {},
   "outputs": [
    {
     "data": {
      "image/png": "[encoded data removed]",
      "text/plain": [
       "<Figure size 432x288 with 1 Axes>"
      ]
     },
     "metadata": {
      "needs_background": "light"
     },
     "output_type": "display_data"
    }
   ],
   "source": [
    "lambda_ = 0.5\n",
    "alpha = 0.25\n",
    "n_iter = 1000\n",
    "fig = plt.figure()\n",
    "ax1 = fig.add_subplot(111)\n",
    "\n",
    "ax1.scatter(range(n_iter), cost_history(alpha, n_iter, 'gd', 'ridge'), s=20, c='b', marker=\"s\", label='gradient descent')\n",
    "ax1.scatter(range(n_iter), cost_history(alpha, n_iter, 'sgd', 'ridge'), s=2, c='r', marker=\"o\", label='sgd')\n",
    "\n",
    "plt.title('MSE with L2-regularization')\n",
    "plt.xlabel('Iteration number')\n",
    "plt.ylabel('MSE')\n",
    "plt.legend(loc='upper right');\n",
    "plt.show()"
   ]
  },
  {
   "cell_type": "markdown",
   "metadata": {},
   "source": [
    "* Добавлениe L2-регуляризации замедляет сходимость стохастического градиентного спуска значительно в большей степени, чем сходимость градиентного спуска.\n",
    "* Чем выше lambda, тем ниже скорость сходимости стохастического градиентного спуска и выше разброс ошибки.\n",
    "* При использовании L2-регуляризации, сумма MSE и нормы вектора весов, по большей части, ниже при стохастическом градиентном спуске, чем при градиентном спуске.\n",
    "* При использовании L2-регуляризации, для ускорения сходимости стохастического градиентного спуска имеет смысл скорректировать шаг обучения (alpha)."
   ]
  }
 ],
 "metadata": {
  "kernelspec": {
   "display_name": "Python 3",
   "language": "python",
   "name": "python3"
  },
  "language_info": {
   "codemirror_mode": {
    "name": "ipython",
    "version": 3
   },
   "file_extension": ".py",
   "mimetype": "text/x-python",
   "name": "python",
   "nbconvert_exporter": "python",
   "pygments_lexer": "ipython3",
   "version": "3.8.2"
  }
 },
 "nbformat": 4,
 "nbformat_minor": 4
}
