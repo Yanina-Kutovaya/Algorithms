{
 "cells": [
  {
   "cell_type": "code",
   "execution_count": 1,
   "metadata": {},
   "outputs": [],
   "source": [
    "import numpy as np\n",
    "import matplotlib.pyplot as plt"
   ]
  },
  {
   "cell_type": "code",
   "execution_count": 2,
   "metadata": {},
   "outputs": [],
   "source": [
    "def calc_mse(y, y_pred):\n",
    "    err = np.mean((y - y_pred)**2)\n",
    "    return err"
   ]
  },
  {
   "cell_type": "code",
   "execution_count": 3,
   "metadata": {},
   "outputs": [],
   "source": [
    "X = np.array([[1, 1, 1, 1, 1, 1, 1, 1, 1, 1],\n",
    "              [1, 1, 2, 1, 3, 0, 5, 10, 1, 2]])\n",
    "y = [45, 55, 50, 59, 65, 35, 75, 80, 50, 60]"
   ]
  },
  {
   "cell_type": "markdown",
   "metadata": {},
   "source": [
    "1. Подберите скорость обучения (alpha) и количество итераций:"
   ]
  },
  {
   "cell_type": "code",
   "execution_count": 4,
   "metadata": {},
   "outputs": [
    {
     "data": {
      "text/plain": [
       "(array([1. , 0.5]), 0.0001)"
      ]
     },
     "execution_count": 4,
     "metadata": {},
     "output_type": "execute_result"
    }
   ],
   "source": [
    "n = X.shape[1]\n",
    "alpha = 1e-4\n",
    "W = np.array([1, 0.5])\n",
    "W, alpha"
   ]
  },
  {
   "cell_type": "code",
   "execution_count": 5,
   "metadata": {},
   "outputs": [
    {
     "name": "stdout",
     "output_type": "stream",
     "text": [
      "0 [1.01102 0.534  ] 3173.15\n",
      "100 [2.02168794 3.452835  ] 2207.6942101483005\n",
      "200 [2.88306663 5.58962851] 1670.7027004086372\n",
      "300 [3.63289519 7.14848061] 1368.0832412796256\n",
      "400 [4.29908617 8.28027926] 1193.7493344933293\n",
      "500 [4.90228732 9.09657298] 1089.714750358689\n",
      "600 [5.45777535 9.67982684] 1024.2828984889416\n",
      "700 [ 5.97685612 10.0910047 ] 980.1260644155933\n",
      "800 [ 6.46789973 10.37517467] 947.770026039189\n",
      "900 [ 6.93710574 10.56565326] 922.0330206910178\n"
     ]
    }
   ],
   "source": [
    "cost_history_base = []\n",
    "for i in range(1000): \n",
    "    y_pred = np.dot(W, X)\n",
    "    err = calc_mse(y, y_pred)    \n",
    "    for ii in range(W.shape[0]):\n",
    "        W[ii] -= alpha * (1/n * 2 * np.sum(X[ii] * (y_pred - y)))\n",
    "    if i % 100 == 0:\n",
    "        print(i, W, err)\n",
    "    cost_history_base.append(err)"
   ]
  },
  {
   "cell_type": "code",
   "execution_count": 6,
   "metadata": {},
   "outputs": [
    {
     "name": "stdout",
     "output_type": "stream",
     "text": [
      "0 [ 7.612 20.9  ] 3173.15\n",
      "10 [25.72983979  9.05170097] 364.6834436471202\n",
      "20 [35.85695572  6.15284752] 125.86627725452956\n",
      "30 [41.24888118  5.03270471] 67.85926616474049\n",
      "40 [44.0891315   4.49316871] 51.98014546835954\n",
      "50 [45.5816168   4.21574742] 47.603575735386116\n",
      "60 [46.3654434   4.07078732] 46.39687623882493\n",
      "70 [46.77704197  3.99475582] 46.064160921425916\n",
      "80 [46.99317184  3.95484256] 45.972423420722386\n",
      "90 [47.10666058  3.9338856 ] 45.94712921557662\n",
      "100 [47.16625286  3.92288138] 45.94015500316733\n",
      "110 [47.19754441  3.91710315] 45.9382320473576\n",
      "120 [47.21397542  3.91406904] 45.93770184282278\n",
      "130 [47.22260325  3.91247585] 45.93755565285452\n",
      "140 [47.22713366  3.91163927] 45.93751534481224\n",
      "150 [47.22951256  3.91119999] 45.937504230928766\n"
     ]
    }
   ],
   "source": [
    "alpha = 0.06   # 1e-4\n",
    "n_iter = 150   # 1000\n",
    "\n",
    "W = np.array([1, 0.5])\n",
    "\n",
    "for i in range(n_iter+1): \n",
    "    y_pred = np.dot(W, X)\n",
    "    err = calc_mse(y, y_pred)    \n",
    "    for ii in range(W.shape[0]):\n",
    "        W[ii] -= alpha * (1/n * 2 * np.sum(X[ii] * (y_pred - y)))\n",
    "    if i % 10 == 0:\n",
    "        print(i, W, err)    "
   ]
  },
  {
   "cell_type": "code",
   "execution_count": 9,
   "metadata": {},
   "outputs": [
    {
     "data": {
      "image/png": "[encoded data removed]",
      "text/plain": [
       "<Figure size 432x288 with 1 Axes>"
      ]
     },
     "metadata": {
      "needs_background": "light"
     },
     "output_type": "display_data"
    }
   ],
   "source": [
    "alpha = 0.06\n",
    "W = np.array([1, 0.5])\n",
    "cost_history_adj = []\n",
    "for i in range(1000):\n",
    "    y_pred = np.dot(W, X)\n",
    "    err = calc_mse(y, y_pred)\n",
    "    W -= (alpha * (1/n * 2 * np.dot(X,(y_pred - y))))\n",
    "    cost_history_adj.append(err)\n",
    "\n",
    "\n",
    "fig = plt.figure()\n",
    "ax1 = fig.add_subplot(111)\n",
    "\n",
    "ax1.scatter(range(1000), cost_history_base, s=5, c='b', marker=\"s\", label='base case')\n",
    "ax1.scatter(range(1000), cost_history_adj, s=5, c='r', marker=\"o\", label='lr=0.06')\n",
    "\n",
    "plt.title('MSE')\n",
    "plt.xlabel('Iteration number')\n",
    "plt.ylabel('MSE')\n",
    "plt.legend(loc='upper right');\n",
    "plt.show()"
   ]
  },
  {
   "cell_type": "markdown",
   "metadata": {},
   "source": [
    "*2. В этом коде мы избавляемся от итераций по весам, но тут есть ошибка, исправьте ее:"
   ]
  },
  {
   "cell_type": "code",
   "execution_count": 8,
   "metadata": {},
   "outputs": [
    {
     "name": "stdout",
     "output_type": "stream",
     "text": [
      "0 [ 7.612 20.9  ] 3173.15\n",
      "10 [25.72983979  9.05170097] 364.6834436471203\n",
      "20 [35.85695572  6.15284752] 125.86627725452959\n",
      "30 [41.24888118  5.03270471] 67.85926616474043\n",
      "40 [44.0891315   4.49316871] 51.98014546835957\n",
      "50 [45.5816168   4.21574742] 47.603575735386116\n",
      "60 [46.3654434   4.07078732] 46.39687623882493\n",
      "70 [46.77704197  3.99475582] 46.064160921425916\n",
      "80 [46.99317184  3.95484256] 45.972423420722386\n",
      "90 [47.10666058  3.9338856 ] 45.94712921557662\n",
      "100 [47.16625286  3.92288138] 45.94015500316733\n",
      "110 [47.19754441  3.91710315] 45.9382320473576\n",
      "120 [47.21397542  3.91406904] 45.93770184282278\n",
      "130 [47.22260325  3.91247585] 45.93755565285452\n",
      "140 [47.22713366  3.91163927] 45.93751534481224\n",
      "150 [47.22951256  3.91119999] 45.937504230928766\n"
     ]
    }
   ],
   "source": [
    "alpha = 0.06\n",
    "W = np.array([1, 0.5])\n",
    "for i in range(151):\n",
    "    y_pred = np.dot(W, X)\n",
    "    err = calc_mse(y, y_pred)\n",
    "    '''for ii in range(W.shape[0]):\n",
    "    W[ii] -= alpha * (1/n * 2 * np.sum(X[ii] * (y_pred - y)))'''\n",
    "    W -= (alpha * (1/n * 2 * np.dot(X,(y_pred - y))))\n",
    "    if i % 10 == 0:\n",
    "        print(i, W, err)"
   ]
  },
  {
   "cell_type": "code",
   "execution_count": null,
   "metadata": {},
   "outputs": [],
   "source": []
  }
 ],
 "metadata": {
  "kernelspec": {
   "display_name": "Python 3",
   "language": "python",
   "name": "python3"
  },
  "language_info": {
   "codemirror_mode": {
    "name": "ipython",
    "version": 3
   },
   "file_extension": ".py",
   "mimetype": "text/x-python",
   "name": "python",
   "nbconvert_exporter": "python",
   "pygments_lexer": "ipython3",
   "version": "3.8.2"
  }
 },
 "nbformat": 4,
 "nbformat_minor": 4
}
