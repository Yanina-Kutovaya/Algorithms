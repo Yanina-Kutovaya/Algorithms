{
 "cells": [
  {
   "cell_type": "code",
   "execution_count": 1,
   "metadata": {},
   "outputs": [],
   "source": [
    "import numpy as np\n",
    "import matplotlib.pyplot as plt"
   ]
  },
  {
   "cell_type": "code",
   "execution_count": 2,
   "metadata": {},
   "outputs": [],
   "source": [
    "X = np.array([[1, 1, 1, 1, 1, 1, 1, 1, 1, 1],\n",
    "              [1, 1, 2, 1, 3, 0, 5, 10, 1, 2],\n",
    "              [500, 700, 750, 600, 1450, 800, 1500, 2000, 450, 1000],\n",
    "              [1, 1, 2, 1, 2, 1, 3, 3, 1, 2]], dtype = np.float64)\n",
    "\n",
    "y = np.array([0, 0, 1, 0, 1, 0, 1, 0, 1, 1], dtype = np.float64)\n",
    "\n",
    "X[1:,:] = (X[1:,:] - X[1:,:].mean(axis=1).reshape([3, 1])) / X[1:,:].std(axis=1).reshape([3, 1])"
   ]
  },
  {
   "cell_type": "markdown",
   "metadata": {},
   "source": [
    "#### Задание 1\n",
    "Измените функцию calc_logloss так, чтобы нули по возможности не попадали в np.log."
   ]
  },
  {
   "cell_type": "code",
   "execution_count": 3,
   "metadata": {},
   "outputs": [],
   "source": [
    "def calc_logloss(y, y_pred, epsilon = 1e-12):    \n",
    "    y_pred[y_pred==0] += epsilon\n",
    "    y_pred[y_pred==1] -= epsilon\n",
    "    err = - np.mean(y * np.log(y_pred) + (1.0 - y) * np.log(1.0 - y_pred))\n",
    "    return err"
   ]
  },
  {
   "cell_type": "markdown",
   "metadata": {},
   "source": [
    "#### Задание 2\n",
    "Подберите аргументы функции eval_model для логистической регрессии таким образом, чтобы log loss был минимальным."
   ]
  },
  {
   "cell_type": "code",
   "execution_count": 4,
   "metadata": {},
   "outputs": [],
   "source": [
    "def sigmoid(z):\n",
    "    res = 1 / (1 + np.exp(-z))\n",
    "    return res"
   ]
  },
  {
   "cell_type": "code",
   "execution_count": 5,
   "metadata": {},
   "outputs": [],
   "source": [
    "def eval_model(X, y, iterations, alpha=1e-4):\n",
    "    np.random.seed(42)\n",
    "    W = np.random.randn(X.shape[0])\n",
    "    n = X.shape[1]\n",
    "    \n",
    "    err_history = []\n",
    "    min_err = 100\n",
    "    n_iter = None\n",
    "    for i in range(1, iterations+1):\n",
    "        z = np.dot(W, X)\n",
    "        y_pred = sigmoid(z)\n",
    "        err = calc_logloss(y, y_pred)\n",
    "        W -= alpha * (1/n * np.dot((y_pred - y), X.T))\n",
    "        \n",
    "        if err < min_err:\n",
    "            n_iter, min_err = i, err\n",
    "        err_history.append(err)\n",
    "    print(f'Min(log_loss) at learning_rate={alpha} is {round(min_err, 4)}, at {n_iter} iterations')\n",
    "    return W, err_history"
   ]
  },
  {
   "cell_type": "code",
   "execution_count": 6,
   "metadata": {},
   "outputs": [],
   "source": [
    "def plot (t, alpha_list, model=eval_model):\n",
    "    dots = np.linspace(0, t, t)\n",
    "    plt.xlabel('Number of inerations')\n",
    "    plt.ylabel('Error')\n",
    "\n",
    "\n",
    "    for alpha in alpha_list:\n",
    "        _, err_history = model(X, y, t, alpha)\n",
    "        plt.plot(dots, err_history)\n",
    "\n",
    "    plt.legend(['alpha=' + str(i) for i in alpha_list])\n",
    "    plt.show()"
   ]
  },
  {
   "cell_type": "code",
   "execution_count": 7,
   "metadata": {},
   "outputs": [
    {
     "name": "stdout",
     "output_type": "stream",
     "text": [
      "Min(log_loss) at learning_rate=29.5 is 0.0173, at 1000 iterations\n",
      "Min(log_loss) at learning_rate=29.45 is 0.0171, at 1000 iterations\n",
      "Min(log_loss) at learning_rate=29.4 is 0.0172, at 1000 iterations\n",
      "Min(log_loss) at learning_rate=1 is 0.1791, at 1000 iterations\n",
      "Min(log_loss) at learning_rate=0.1 is 0.3101, at 1000 iterations\n",
      "Min(log_loss) at learning_rate=0.01 is 0.4613, at 1000 iterations\n"
     ]
    },
    {
     "data": {
      "image/png": "[encoded data removed]",
      "text/plain": [
       "<Figure size 432x288 with 1 Axes>"
      ]
     },
     "metadata": {
      "needs_background": "light"
     },
     "output_type": "display_data"
    }
   ],
   "source": [
    "t = 1000\n",
    "alpha_list = [29.5, 29.45, 29.4, 1, 1e-1,  1e-2]\n",
    "plot (t, alpha_list)"
   ]
  },
  {
   "cell_type": "markdown",
   "metadata": {},
   "source": [
    "#### Задание 3\n",
    "Создайте функцию calc_pred_proba, возвращающую предсказанную вероятность класса 1 (на вход подаются W, который уже посчитан функцией eval_model и X, на выходе - массив y_pred_proba)."
   ]
  },
  {
   "cell_type": "code",
   "execution_count": 8,
   "metadata": {},
   "outputs": [],
   "source": [
    "def calc_pred_proba(W, X):\n",
    "    z = np.dot(W, X)\n",
    "    y_pred_proba = sigmoid(z)\n",
    "    return y_pred_proba"
   ]
  },
  {
   "cell_type": "markdown",
   "metadata": {},
   "source": [
    "#### Задание 4\n",
    "Создайте функцию calc_pred, возвращающую предсказанный класс (на вход подаются W, который уже посчитан функцией eval_model и X, на выходе - массив y_pred)."
   ]
  },
  {
   "cell_type": "code",
   "execution_count": 9,
   "metadata": {},
   "outputs": [],
   "source": [
    "def calc_pred(W, X, split_level=0.5):\n",
    "    z = np.dot(W, X)\n",
    "    y_pred = sigmoid(z)    \n",
    "    y_pred[y_pred >= split_level] = 1\n",
    "    y_pred[y_pred < split_level] = 0\n",
    "    return y_pred"
   ]
  },
  {
   "cell_type": "markdown",
   "metadata": {},
   "source": [
    "#### Задание 5\n",
    "Посчитайте Accuracy, матрицу ошибок, точность и полноту, а также F1 score."
   ]
  },
  {
   "cell_type": "code",
   "execution_count": 10,
   "metadata": {},
   "outputs": [],
   "source": [
    "def metrics(y, y_pred):    \n",
    "    accuracy = ((y-y_pred)==0).sum() / len(y)\n",
    "\n",
    "    TP = y[(y - y_pred) == 0].sum()\n",
    "    FP = ((y - y_pred) == -1).sum()\n",
    "    TN = (y[(y - y_pred) == 0]==0).sum()\n",
    "    FN = ((y - y_pred) == 1).sum()\n",
    "\n",
    "    print(f'\\nМатрица ошибок\\n\\t1\\t0\\n1:\\t{int(TP)}\\t{FP}\\n0:\\t{FN}\\t{TN}\\n')\n",
    "\n",
    "    precision = TP / (TP + FP)\n",
    "    recall = TP / (TP + FN)\n",
    "    F1_score = 2 * precision * recall / (precision + recall)\n",
    "\n",
    "    print(f'accuracy = {accuracy}')\n",
    "    print(f'precision = {round(precision, 2)}')\n",
    "    print(f'recall = {recall}')\n",
    "    print(f'F1_score = {round(F1_score, 2)}')"
   ]
  },
  {
   "cell_type": "code",
   "execution_count": 11,
   "metadata": {},
   "outputs": [
    {
     "name": "stdout",
     "output_type": "stream",
     "text": [
      "Min(log_loss) at learning_rate=29.45 is 0.0171, at 1000 iterations\n",
      "\n",
      "Матрица ошибок\n",
      "\t1\t0\n",
      "1:\t5\t0\n",
      "0:\t0\t5\n",
      "\n",
      "accuracy = 1.0\n",
      "precision = 1.0\n",
      "recall = 1.0\n",
      "F1_score = 1.0\n"
     ]
    }
   ],
   "source": [
    "W, _ = eval_model(X, y, iterations=1000, alpha=29.45)\n",
    "y_pred = calc_pred(W, X)\n",
    "\n",
    "metrics(y, y_pred)"
   ]
  },
  {
   "cell_type": "markdown",
   "metadata": {},
   "source": [
    "#### Задание 6\n",
    "Могла ли модель переобучиться? Почему? "
   ]
  },
  {
   "cell_type": "markdown",
   "metadata": {},
   "source": [
    "Модель могла переобучиться. 10 объектов может оказаться слишком мало и модель могла наренироваться именно на эти объекты, а на тестовом датасете показать гораздо хушие результаты."
   ]
  },
  {
   "cell_type": "markdown",
   "metadata": {},
   "source": [
    "#### Задание 7*\n",
    "Создайте функции eval_model_l1 и eval_model_l2 с применением L1 и L2 регуляризаций соответственно."
   ]
  },
  {
   "cell_type": "markdown",
   "metadata": {},
   "source": [
    "##### L1-регуляризация"
   ]
  },
  {
   "cell_type": "code",
   "execution_count": 12,
   "metadata": {},
   "outputs": [],
   "source": [
    "def eval_model_L1(X, y, iterations, alpha=1e-4, lambda_=0.75):\n",
    "    np.random.seed(42)\n",
    "    W = np.random.randn(X.shape[0])\n",
    "    n = X.shape[1]\n",
    "    \n",
    "    err_history = []\n",
    "    min_err = 100\n",
    "    n_iter = None\n",
    "    for i in range(1, iterations+1):\n",
    "        z = np.dot(W, X)\n",
    "        y_pred = sigmoid(z)\n",
    "        err = calc_logloss(y, y_pred)\n",
    "        W -= alpha * 1/n * (np.dot((y_pred - y), X.T)+ lambda_ * np.sign(W))\n",
    "        \n",
    "        if err < min_err:\n",
    "            n_iter, min_err = i, err\n",
    "        err_history.append(err)\n",
    "    print(f'Min(log_loss) at learning_rate={alpha} is {round(min_err, 2)}, at {n_iter} iterations')\n",
    "    return W, err_history"
   ]
  },
  {
   "cell_type": "code",
   "execution_count": 13,
   "metadata": {},
   "outputs": [
    {
     "name": "stdout",
     "output_type": "stream",
     "text": [
      "Min(log_loss) at learning_rate=29.4 is 0.26, at 47 iterations\n",
      "Min(log_loss) at learning_rate=0.4 is 0.54, at 15 iterations\n",
      "Min(log_loss) at learning_rate=0.1 is 0.54, at 53 iterations\n"
     ]
    },
    {
     "data": {
      "image/png": "[encoded data removed]",
      "text/plain": [
       "<Figure size 432x288 with 1 Axes>"
      ]
     },
     "metadata": {
      "needs_background": "light"
     },
     "output_type": "display_data"
    }
   ],
   "source": [
    "t = 60\n",
    "alpha_list = [29.4, 4e-1, 1e-1]\n",
    "plot (t, alpha_list, model=eval_model_L1)"
   ]
  },
  {
   "cell_type": "code",
   "execution_count": 14,
   "metadata": {},
   "outputs": [
    {
     "name": "stdout",
     "output_type": "stream",
     "text": [
      "Min(log_loss) at learning_rate=29.4 is 0.26, at 47 iterations\n",
      "\n",
      "Матрица ошибок\n",
      "\t1\t0\n",
      "1:\t4\t0\n",
      "0:\t1\t5\n",
      "\n",
      "accuracy = 0.9\n",
      "precision = 1.0\n",
      "recall = 0.8\n",
      "F1_score = 0.89\n"
     ]
    }
   ],
   "source": [
    "W, _ = eval_model_L1(X, y, iterations=47, alpha=29.4)\n",
    "y_pred = calc_pred(W, X)\n",
    "\n",
    "metrics(y, y_pred)"
   ]
  },
  {
   "cell_type": "markdown",
   "metadata": {},
   "source": [
    "##### L2-регуляризация"
   ]
  },
  {
   "cell_type": "code",
   "execution_count": 15,
   "metadata": {},
   "outputs": [],
   "source": [
    "def eval_model_L2(X, y, iterations, alpha=1e-4, lambda_=0.75):\n",
    "    np.random.seed(42)\n",
    "    W = np.random.randn(X.shape[0])\n",
    "    n = X.shape[1]    \n",
    "    \n",
    "    err_history = []\n",
    "    min_err = 100\n",
    "    n_iter = None\n",
    "    for i in range(1, iterations+1):\n",
    "        z = np.dot(W, X)\n",
    "        y_pred = sigmoid(z)\n",
    "        err = calc_logloss(y, y_pred)\n",
    "        W -= alpha * 1/n * (np.dot((y_pred - y), X.T)+ lambda_ * W)\n",
    "        \n",
    "        if err < min_err:\n",
    "            n_iter, min_err = i, err\n",
    "        err_history.append(err)\n",
    "    print(f'Min(log_loss) at learning_rate={alpha} is {round(min_err, 4)}, at {n_iter} iterations')\n",
    "    return W, err_history"
   ]
  },
  {
   "cell_type": "code",
   "execution_count": 16,
   "metadata": {},
   "outputs": [
    {
     "name": "stdout",
     "output_type": "stream",
     "text": [
      "Min(log_loss) at learning_rate=2.8 is 0.5295, at 649 iterations\n",
      "Min(log_loss) at learning_rate=2.7 is 0.5251, at 41 iterations\n",
      "Min(log_loss) at learning_rate=2.6 is 0.5252, at 21 iterations\n",
      "Min(log_loss) at learning_rate=0.1 is 0.5253, at 1000 iterations\n"
     ]
    },
    {
     "data": {
      "image/png": "[encoded data removed]",
      "text/plain": [
       "<Figure size 432x288 with 1 Axes>"
      ]
     },
     "metadata": {
      "needs_background": "light"
     },
     "output_type": "display_data"
    }
   ],
   "source": [
    "t = 1000\n",
    "alpha_list = [2.8, 2.7, 2.6, 1e-1]\n",
    "plot (t, alpha_list, model=eval_model_L2)"
   ]
  },
  {
   "cell_type": "code",
   "execution_count": 17,
   "metadata": {},
   "outputs": [
    {
     "name": "stdout",
     "output_type": "stream",
     "text": [
      "Min(log_loss) at learning_rate=2.7 is 0.5251, at 41 iterations\n",
      "\n",
      "Матрица ошибок\n",
      "\t1\t0\n",
      "1:\t4\t0\n",
      "0:\t1\t5\n",
      "\n",
      "accuracy = 0.9\n",
      "precision = 1.0\n",
      "recall = 0.8\n",
      "F1_score = 0.89\n"
     ]
    }
   ],
   "source": [
    "W, _ = eval_model_L2(X, y, iterations=41, alpha=2.7)\n",
    "y_pred = calc_pred(W, X)\n",
    "\n",
    "metrics(y, y_pred)"
   ]
  },
  {
   "cell_type": "markdown",
   "metadata": {},
   "source": [
    "Применение регулризации повышет уровень ошибки, но позволет уменьшить переобучение модели."
   ]
  }
 ],
 "metadata": {
  "kernelspec": {
   "display_name": "Python 3",
   "language": "python",
   "name": "python3"
  },
  "language_info": {
   "codemirror_mode": {
    "name": "ipython",
    "version": 3
   },
   "file_extension": ".py",
   "mimetype": "text/x-python",
   "name": "python",
   "nbconvert_exporter": "python",
   "pygments_lexer": "ipython3",
   "version": "3.8.2"
  }
 },
 "nbformat": 4,
 "nbformat_minor": 4
}
